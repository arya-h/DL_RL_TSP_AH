{
 "cells": [
  {
   "cell_type": "code",
   "execution_count": 8,
   "id": "offshore-paradise",
   "metadata": {},
   "outputs": [],
   "source": [
    "import torch\n",
    "from torch.utils.data import DataLoader\n",
    "from datetime import datetime\n",
    "from actor_50 import PtrNet1\n",
    "from critic_50 import PtrNet2\n",
    "from config_100n import Config\n",
    "from data import Generator\n",
    "from env_v4 import Env_tsp\n",
    "import torch.nn as nn\n",
    "from time import time"
   ]
  },
  {
   "cell_type": "code",
   "execution_count": 9,
   "id": "wound-lawyer",
   "metadata": {},
   "outputs": [],
   "source": [
    "import torch\n",
    "import torch.nn as nn\n",
    "import torch.optim as optim\n",
    "\n",
    "class AE(nn.Module):\n",
    "    def __init__(self, **kwargs):\n",
    "        super().__init__()\n",
    "        self.encoder_hidden_layer = nn.Linear(\n",
    "            in_features=kwargs[\"input_shape\"], out_features=64\n",
    "        )\n",
    "        self.encoder_output_layer = nn.Linear(\n",
    "            in_features=64, out_features=64\n",
    "        )\n",
    "        self.decoder_hidden_layer = nn.Linear(\n",
    "            in_features=64, out_features=64\n",
    "        )\n",
    "        self.decoder_output_layer = nn.Linear(\n",
    "            in_features=64, out_features=kwargs[\"input_shape\"]\n",
    "        )\n",
    "        \n",
    "    def encode(self, x):\n",
    "        activation = self.encoder_hidden_layer(x)\n",
    "        activation = torch.relu(activation)\n",
    "        code = self.encoder_output_layer(activation)\n",
    "        code = torch.relu(code)\n",
    "        return code\n",
    "    \n",
    "    def decode(self, code):\n",
    "        activation = self.decoder_hidden_layer(code)\n",
    "        activation = torch.relu(activation)\n",
    "        activation = self.decoder_output_layer(activation)\n",
    "        reconstructed = torch.relu(activation)\n",
    "        return reconstructed\n",
    "\n",
    "    def forward(self, features):\n",
    "        tmp = self.encode(features)\n",
    "        reconstructed = self.decode(tmp)\n",
    "        return reconstructed"
   ]
  },
  {
   "cell_type": "code",
   "execution_count": 10,
   "id": "collaborative-samuel",
   "metadata": {},
   "outputs": [
    {
     "name": "stdout",
     "output_type": "stream",
     "text": [
      "Available kernels:\n",
      "  myenv              /home/students/s290510/.local/share/jupyter/kernels/myenv\n",
      "  python3            /home/students/s290510/.local/share/jupyter/kernels/python3\n",
      "  venv               /home/students/s290510/.local/share/jupyter/kernels/venv\n",
      "  venv_deep1         /home/students/s290510/.local/share/jupyter/kernels/venv_deep1\n",
      "  ir                 /opt/anaconda3/envs/bigdatalab_cpu_202101/share/jupyter/kernels/ir\n",
      "  octave             /opt/anaconda3/envs/bigdatalab_cpu_202101/share/jupyter/kernels/octave\n",
      "  graphframe_yarn    /usr/local/share/jupyter/kernels/graphframe_yarn\n",
      "  pyspark_local      /usr/local/share/jupyter/kernels/pyspark_local\n",
      "  pyspark_yarn       /usr/local/share/jupyter/kernels/pyspark_yarn\n"
     ]
    }
   ],
   "source": [
    "!jupyter kernelspec list\n",
    "\n"
   ]
  },
  {
   "cell_type": "code",
   "execution_count": 11,
   "id": "caring-indian",
   "metadata": {},
   "outputs": [
    {
     "name": "stdout",
     "output_type": "stream",
     "text": [
      "cpu\n",
      "torch.Size([10, 100, 2])\n"
     ]
    }
   ],
   "source": [
    "cfg = Config()\n",
    "env = Env_tsp(cfg)\n",
    "device = torch.device('cuda' if torch.cuda.is_available() else 'cpu')\n",
    "print(device)\n",
    "model = AE(input_shape=2).to(device)\n",
    "\n",
    "model.load_state_dict(torch.load(\"model/vanilla_100n_64emb.pt\"))\n",
    "model.eval()\n",
    "\n",
    "batch = env.get_batch_nodes(10)\n",
    "print(batch.shape)\n",
    "\n"
   ]
  },
  {
   "cell_type": "code",
   "execution_count": null,
   "id": "wired-exploration",
   "metadata": {},
   "outputs": [],
   "source": []
  },
  {
   "cell_type": "code",
   "execution_count": 12,
   "id": "veterinary-circular",
   "metadata": {},
   "outputs": [],
   "source": [
    "def generate_encoding(batch):\n",
    "    res = []\n",
    "    for graph in batch:\n",
    "        emb = model.encode(graph)\n",
    "        res.append(emb)\n",
    "        \n",
    "    res_tens = torch.stack(res)\n",
    "    return res_tens\n",
    "\n"
   ]
  },
  {
   "cell_type": "code",
   "execution_count": 13,
   "id": "earlier-overview",
   "metadata": {},
   "outputs": [],
   "source": [
    "#act_model = PtrNet1(cfg)\n",
    "#act_model.load_state_dict(torch.load(\"model/100n_64emb_20ksteps_degenerated.pt\"))\n"
   ]
  },
  {
   "cell_type": "code",
   "execution_count": 14,
   "id": "obvious-beauty",
   "metadata": {},
   "outputs": [],
   "source": [
    "torch.backends.cudnn.benchmark = True\n",
    "\n",
    "def train_model(cfg, env, log_path = None):\n",
    "    try:    \n",
    "        date = datetime.now().strftime('%m%d_%H_%M')\n",
    "\n",
    "        torch.no_grad()\n",
    "        act_model = PtrNet1(cfg)\n",
    "        #act_model.load_state_dict(torch.load(\"model/100nodes-intermediate.pt\"))\n",
    "\n",
    "\n",
    "        if cfg.optim == 'Adam':\n",
    "            act_optim = torch.optim.Adam(act_model.parameters(), lr = 0.001)\n",
    "        if cfg.is_lr_decay:\n",
    "            act_lr_scheduler = torch.optim.lr_scheduler.StepLR(act_optim, \n",
    "                            step_size=cfg.lr_decay_step, gamma=cfg.lr_decay)\n",
    "        device = torch.device('cuda:0' if torch.cuda.is_available() else 'cpu')\n",
    "        act_model = act_model.to(device)\n",
    "\n",
    "        if cfg.mode == 'train':\n",
    "            cri_model = PtrNet2(cfg)\n",
    "            if cfg.optim == 'Adam':\n",
    "                cri_optim = torch.optim.Adam(cri_model.parameters(), lr = 0.001)\n",
    "            if cfg.is_lr_decay:\n",
    "                cri_lr_scheduler = torch.optim.lr_scheduler.StepLR(cri_optim, \n",
    "                            step_size = cfg.lr_decay_step, gamma = cfg.lr_decay)\n",
    "            cri_model = cri_model.to(device)\n",
    "            ave_cri_loss = 0.\n",
    "\n",
    "        mse_loss = nn.MSELoss()\n",
    "        dataset = Generator(cfg, env)\n",
    "        dataloader = DataLoader(dataset, batch_size = cfg.batch, shuffle = True)\n",
    "\n",
    "        ave_act_loss, ave_L = 0., 0.\n",
    "        min_L, cnt = 1e7, 0\n",
    "        t1 = time()\n",
    "        # for i, inputs in tqdm(enumerate(dataloader)):\n",
    "        #for i, inputs in enumerate(dataloader):\n",
    "        for i, inputs in enumerate(dataloader):\n",
    "            inputs = inputs.to(device)\n",
    "            #now instead of the inputs (a batch of node coordinates), give extract the embedding from the nodes\n",
    "            embed = generate_encoding(inputs)  \n",
    "            pred_tour, ll = act_model(embed, device)\n",
    "            real_l = env.stack_l_fast(inputs, pred_tour)\n",
    "\n",
    "            if cfg.mode == 'train':\n",
    "                embed = generate_encoding(inputs)  \n",
    "                pred_l = cri_model(embed, device)\n",
    "                cri_loss = mse_loss(pred_l, real_l.detach())\n",
    "                cri_optim.zero_grad()\n",
    "                cri_loss.backward(retain_graph=True)\n",
    "                nn.utils.clip_grad_norm_(cri_model.parameters(), max_norm = 1., norm_type = 2)\n",
    "                cri_optim.step()\n",
    "                if cfg.is_lr_decay:\n",
    "                    cri_lr_scheduler.step()\n",
    "\n",
    "            adv = real_l.detach() - pred_l.detach()\n",
    "            act_loss = (adv * ll).mean()\n",
    "            act_optim.zero_grad()\n",
    "            act_loss.backward( )\n",
    "            nn.utils.clip_grad_norm_(act_model.parameters(), max_norm = 1., norm_type = 2)\n",
    "            act_optim.step()\n",
    "            if cfg.is_lr_decay:\n",
    "                act_lr_scheduler.step()\n",
    "\n",
    "            ave_act_loss += act_loss.item()\n",
    "            if cfg.mode == 'train':\n",
    "                ave_cri_loss += cri_loss.item()\n",
    "            ave_L += real_l.mean().item()\n",
    "\n",
    "            if i % 5 == 0:\n",
    "                env.show(inputs[0], pred_tour[0])\n",
    "                #print(pred_tour[''])\n",
    "\n",
    "            if i % cfg.log_step == 0:\n",
    "                t2 = time()\n",
    "                if cfg.mode == 'train':\t\n",
    "                    print('step:%d/%d, actic loss:%1.3f, critic loss:%1.3f, L:%1.3f, %dmin%dsec'%(i, cfg.steps, ave_act_loss/(i+1), ave_cri_loss/(i+1), ave_L/(i+1), (t2-t1)//60, (t2-t1)%60))\n",
    "                    if cfg.islogger:\n",
    "                        if log_path is None:\n",
    "                            log_path = cfg.log_dir + '%s_%s_train.csv'%(date, cfg.task)#cfg.log_dir = ./Csv/\n",
    "                            with open(log_path, 'w') as f:\n",
    "                                f.write('step,actic loss,critic loss,average distance,time\\n')\n",
    "                        else:\n",
    "                            with open(log_path, 'a') as f:\n",
    "                                f.write('%d,%1.4f,%1.4f,%1.4f,%dmin%dsec\\n'%(i, ave_act_loss/(i+1), ave_cri_loss/(i+1), ave_L/(i+1), (t2-t1)//60, (t2-t1)%60))\n",
    "\n",
    "\n",
    "                if(ave_L/(i+1) < min_L):\n",
    "                    min_L = ave_L/(i+1)\n",
    "                if(ave_L/(i+1) < 126):\n",
    "                    torch.save(act_model.state_dict(), cfg.model_dir + '%s_%s_step%d_act.pt'%(cfg.task, date, i))#'cfg.model_dir = ./Pt/'\n",
    "\n",
    "                # else:\n",
    "                # \tcnt += 1\n",
    "                # \tprint(f'cnt: {cnt}/20')\n",
    "                # \tif(cnt >= 20):\n",
    "                # \t\tprint('early stop, average cost cant decrease anymore')\n",
    "                # \t\tif log_path is not None:\n",
    "                # \t\t\twith open(log_path, 'a') as f:\n",
    "                # \t\t\t\tf.write('\\nearly stop')\n",
    "                # \t\tbreak\n",
    "                t1 = time()\n",
    "        if cfg.issaver:\t\t\n",
    "            torch.save(act_model.state_dict(), cfg.model_dir + '%s_%s_step%d_act.pt'%(cfg.task, date, i))#'cfg.model_dir = ./Pt/'\n",
    "            print('save model...')\n",
    "    except KeyboardInterrupt:\n",
    "        torch.save(act_model.state_dict(), cfg.model_dir + '%s_%s_step%d_act.pt'%(cfg.task, date, i))#'cfg.model_dir = ./Pt/'\n",
    "        "
   ]
  },
  {
   "cell_type": "code",
   "execution_count": 15,
   "id": "pretty-railway",
   "metadata": {},
   "outputs": [
    {
     "ename": "UnboundLocalError",
     "evalue": "local variable 'i' referenced before assignment",
     "output_type": "error",
     "traceback": [
      "\u001b[0;31m---------------------------------------------------------------------------\u001b[0m",
      "\u001b[0;31mKeyboardInterrupt\u001b[0m                         Traceback (most recent call last)",
      "\u001b[0;32m<ipython-input-14-444ece5a4c45>\u001b[0m in \u001b[0;36mtrain_model\u001b[0;34m(cfg, env, log_path)\u001b[0m\n\u001b[1;32m     30\u001b[0m         \u001b[0mmse_loss\u001b[0m \u001b[0;34m=\u001b[0m \u001b[0mnn\u001b[0m\u001b[0;34m.\u001b[0m\u001b[0mMSELoss\u001b[0m\u001b[0;34m(\u001b[0m\u001b[0;34m)\u001b[0m\u001b[0;34m\u001b[0m\u001b[0;34m\u001b[0m\u001b[0m\n\u001b[0;32m---> 31\u001b[0;31m         \u001b[0mdataset\u001b[0m \u001b[0;34m=\u001b[0m \u001b[0mGenerator\u001b[0m\u001b[0;34m(\u001b[0m\u001b[0mcfg\u001b[0m\u001b[0;34m,\u001b[0m \u001b[0menv\u001b[0m\u001b[0;34m)\u001b[0m\u001b[0;34m\u001b[0m\u001b[0;34m\u001b[0m\u001b[0m\n\u001b[0m\u001b[1;32m     32\u001b[0m         \u001b[0mdataloader\u001b[0m \u001b[0;34m=\u001b[0m \u001b[0mDataLoader\u001b[0m\u001b[0;34m(\u001b[0m\u001b[0mdataset\u001b[0m\u001b[0;34m,\u001b[0m \u001b[0mbatch_size\u001b[0m \u001b[0;34m=\u001b[0m \u001b[0mcfg\u001b[0m\u001b[0;34m.\u001b[0m\u001b[0mbatch\u001b[0m\u001b[0;34m,\u001b[0m \u001b[0mshuffle\u001b[0m \u001b[0;34m=\u001b[0m \u001b[0;32mTrue\u001b[0m\u001b[0;34m)\u001b[0m\u001b[0;34m\u001b[0m\u001b[0;34m\u001b[0m\u001b[0m\n",
      "\u001b[0;32m~/TFM/trian_embeddngs/data.py\u001b[0m in \u001b[0;36m__init__\u001b[0;34m(self, cfg, env)\u001b[0m\n\u001b[1;32m     12\u001b[0m \u001b[0;34m\u001b[0m\u001b[0m\n\u001b[0;32m---> 13\u001b[0;31m                 \u001b[0mself\u001b[0m\u001b[0;34m.\u001b[0m\u001b[0mdata\u001b[0m \u001b[0;34m=\u001b[0m \u001b[0menv\u001b[0m\u001b[0;34m.\u001b[0m\u001b[0mget_batch_nodes\u001b[0m\u001b[0;34m(\u001b[0m\u001b[0mcfg\u001b[0m\u001b[0;34m.\u001b[0m\u001b[0mn_samples\u001b[0m\u001b[0;34m)\u001b[0m\u001b[0;34m\u001b[0m\u001b[0;34m\u001b[0m\u001b[0m\n\u001b[0m\u001b[1;32m     14\u001b[0m \u001b[0;34m\u001b[0m\u001b[0m\n",
      "\u001b[0;32m~/TFM/trian_embeddngs/env_v4.py\u001b[0m in \u001b[0;36mget_batch_nodes\u001b[0;34m(self, n_samples, seed)\u001b[0m\n\u001b[1;32m     54\u001b[0m                 \u001b[0;31m#return x.squeeze()\u001b[0m\u001b[0;34m\u001b[0m\u001b[0;34m\u001b[0m\u001b[0;34m\u001b[0m\u001b[0m\n\u001b[0;32m---> 55\u001b[0;31m                 \u001b[0;32mreturn\u001b[0m \u001b[0mtorch\u001b[0m\u001b[0;34m.\u001b[0m\u001b[0mrand\u001b[0m\u001b[0;34m(\u001b[0m\u001b[0;34m(\u001b[0m\u001b[0mn_samples\u001b[0m\u001b[0;34m,\u001b[0m \u001b[0mself\u001b[0m\u001b[0;34m.\u001b[0m\u001b[0mcity_t\u001b[0m\u001b[0;34m,\u001b[0m \u001b[0;36m2\u001b[0m\u001b[0;34m)\u001b[0m\u001b[0;34m,\u001b[0m \u001b[0mdevice\u001b[0m \u001b[0;34m=\u001b[0m \u001b[0mdevice\u001b[0m\u001b[0;34m)\u001b[0m\u001b[0;34m\u001b[0m\u001b[0;34m\u001b[0m\u001b[0m\n\u001b[0m\u001b[1;32m     56\u001b[0m \u001b[0;34m\u001b[0m\u001b[0m\n",
      "\u001b[0;31mKeyboardInterrupt\u001b[0m: ",
      "\nDuring handling of the above exception, another exception occurred:\n",
      "\u001b[0;31mUnboundLocalError\u001b[0m                         Traceback (most recent call last)",
      "\u001b[0;32m<ipython-input-15-6173062c7a4f>\u001b[0m in \u001b[0;36m<module>\u001b[0;34m\u001b[0m\n\u001b[0;32m----> 1\u001b[0;31m \u001b[0mtrain_model\u001b[0m\u001b[0;34m(\u001b[0m\u001b[0mcfg\u001b[0m\u001b[0;34m,\u001b[0m \u001b[0menv\u001b[0m\u001b[0;34m)\u001b[0m\u001b[0;34m\u001b[0m\u001b[0;34m\u001b[0m\u001b[0m\n\u001b[0m",
      "\u001b[0;32m<ipython-input-14-444ece5a4c45>\u001b[0m in \u001b[0;36mtrain_model\u001b[0;34m(cfg, env, log_path)\u001b[0m\n\u001b[1;32m    106\u001b[0m             \u001b[0mprint\u001b[0m\u001b[0;34m(\u001b[0m\u001b[0;34m'save model...'\u001b[0m\u001b[0;34m)\u001b[0m\u001b[0;34m\u001b[0m\u001b[0;34m\u001b[0m\u001b[0m\n\u001b[1;32m    107\u001b[0m     \u001b[0;32mexcept\u001b[0m \u001b[0mKeyboardInterrupt\u001b[0m\u001b[0;34m:\u001b[0m\u001b[0;34m\u001b[0m\u001b[0;34m\u001b[0m\u001b[0m\n\u001b[0;32m--> 108\u001b[0;31m         \u001b[0mtorch\u001b[0m\u001b[0;34m.\u001b[0m\u001b[0msave\u001b[0m\u001b[0;34m(\u001b[0m\u001b[0mact_model\u001b[0m\u001b[0;34m.\u001b[0m\u001b[0mstate_dict\u001b[0m\u001b[0;34m(\u001b[0m\u001b[0;34m)\u001b[0m\u001b[0;34m,\u001b[0m \u001b[0mcfg\u001b[0m\u001b[0;34m.\u001b[0m\u001b[0mmodel_dir\u001b[0m \u001b[0;34m+\u001b[0m \u001b[0;34m'%s_%s_step%d_act.pt'\u001b[0m\u001b[0;34m%\u001b[0m\u001b[0;34m(\u001b[0m\u001b[0mcfg\u001b[0m\u001b[0;34m.\u001b[0m\u001b[0mtask\u001b[0m\u001b[0;34m,\u001b[0m \u001b[0mdate\u001b[0m\u001b[0;34m,\u001b[0m \u001b[0mi\u001b[0m\u001b[0;34m)\u001b[0m\u001b[0;34m)\u001b[0m\u001b[0;31m#'cfg.model_dir = ./Pt/'\u001b[0m\u001b[0;34m\u001b[0m\u001b[0;34m\u001b[0m\u001b[0m\n\u001b[0m\u001b[1;32m    109\u001b[0m \u001b[0;34m\u001b[0m\u001b[0m\n",
      "\u001b[0;31mUnboundLocalError\u001b[0m: local variable 'i' referenced before assignment"
     ]
    }
   ],
   "source": [
    "train_model(cfg, env)"
   ]
  },
  {
   "cell_type": "code",
   "execution_count": null,
   "id": "dutch-legislation",
   "metadata": {},
   "outputs": [],
   "source": []
  }
 ],
 "metadata": {
  "interpreter": {
   "hash": "fccca5e05c228e874d39a720a29217fb8a430d4044ea6dc57fb0efaf3e6491cf"
  },
  "kernelspec": {
   "display_name": "Python 3",
   "language": "python",
   "name": "python3"
  },
  "language_info": {
   "codemirror_mode": {
    "name": "ipython",
    "version": 3
   },
   "file_extension": ".py",
   "mimetype": "text/x-python",
   "name": "python",
   "nbconvert_exporter": "python",
   "pygments_lexer": "ipython3",
   "version": "3.7.9"
  }
 },
 "nbformat": 4,
 "nbformat_minor": 5
}
